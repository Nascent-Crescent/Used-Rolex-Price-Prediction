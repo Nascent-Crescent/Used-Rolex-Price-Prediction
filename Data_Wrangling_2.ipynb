{
 "cells": [
  {
   "cell_type": "code",
   "execution_count": 1,
   "metadata": {},
   "outputs": [],
   "source": [
    "#read data\n",
    "import pandas as pd\n",
    "df = pd.read_csv(\"rolex_scaper_clean.csv\")"
   ]
  },
  {
   "cell_type": "code",
   "execution_count": 14,
   "metadata": {},
   "outputs": [
    {
     "name": "stdout",
     "output_type": "stream",
     "text": [
      "(87117, 12)\n"
     ]
    },
    {
     "data": {
      "text/html": [
       "<div>\n",
       "<style scoped>\n",
       "    .dataframe tbody tr th:only-of-type {\n",
       "        vertical-align: middle;\n",
       "    }\n",
       "\n",
       "    .dataframe tbody tr th {\n",
       "        vertical-align: top;\n",
       "    }\n",
       "\n",
       "    .dataframe thead th {\n",
       "        text-align: right;\n",
       "    }\n",
       "</style>\n",
       "<table border=\"1\" class=\"dataframe\">\n",
       "  <thead>\n",
       "    <tr style=\"text-align: right;\">\n",
       "      <th></th>\n",
       "      <th>model</th>\n",
       "      <th>reference number</th>\n",
       "      <th>price</th>\n",
       "      <th>aditional shipping price</th>\n",
       "      <th>ad name</th>\n",
       "      <th>movement</th>\n",
       "      <th>case material</th>\n",
       "      <th>case diameter</th>\n",
       "      <th>year of production</th>\n",
       "      <th>condition</th>\n",
       "      <th>scope of delivery</th>\n",
       "      <th>location</th>\n",
       "    </tr>\n",
       "  </thead>\n",
       "  <tbody>\n",
       "    <tr>\n",
       "      <th>34357</th>\n",
       "      <td>Rolex Sky-Dweller</td>\n",
       "      <td>326935</td>\n",
       "      <td>63718.0</td>\n",
       "      <td>0.0</td>\n",
       "      <td>Ref. 326935 - choco Index Zifferblatt</td>\n",
       "      <td>Automatic</td>\n",
       "      <td>Rose gold</td>\n",
       "      <td>42 mm</td>\n",
       "      <td>2022.0</td>\n",
       "      <td>Unworn</td>\n",
       "      <td>Original box, original papers</td>\n",
       "      <td>Germany, Duisburg</td>\n",
       "    </tr>\n",
       "    <tr>\n",
       "      <th>69523</th>\n",
       "      <td>Rolex Submariner Date</td>\n",
       "      <td>126610LN</td>\n",
       "      <td>14950.0</td>\n",
       "      <td>0.0</td>\n",
       "      <td>126610LN</td>\n",
       "      <td>Automatic</td>\n",
       "      <td>Steel</td>\n",
       "      <td>41 mm</td>\n",
       "      <td>2021.0</td>\n",
       "      <td>Very good</td>\n",
       "      <td>Original box, original papers</td>\n",
       "      <td>United States of America, Pennsylvania</td>\n",
       "    </tr>\n",
       "    <tr>\n",
       "      <th>79576</th>\n",
       "      <td>Rolex Datejust 36</td>\n",
       "      <td>1603</td>\n",
       "      <td>6000.0</td>\n",
       "      <td>100.0</td>\n",
       "      <td>1967 Vintage Rolex Datejust Ref. 1603 RARE Bla...</td>\n",
       "      <td>Automatic</td>\n",
       "      <td>Steel</td>\n",
       "      <td>36 mm</td>\n",
       "      <td>1967.0</td>\n",
       "      <td>NaN</td>\n",
       "      <td>No original box, no original papers</td>\n",
       "      <td>United States of America, California, Beverly ...</td>\n",
       "    </tr>\n",
       "    <tr>\n",
       "      <th>44391</th>\n",
       "      <td>Rolex Lady-Datejust</td>\n",
       "      <td>6917</td>\n",
       "      <td>14350.0</td>\n",
       "      <td>115.0</td>\n",
       "      <td>1979 Ladies Datejust 18K YG (Ref. 6917) Tiger ...</td>\n",
       "      <td>Automatic</td>\n",
       "      <td>Yellow gold</td>\n",
       "      <td>NaN</td>\n",
       "      <td>1979.0</td>\n",
       "      <td>Very good</td>\n",
       "      <td>Original box, original papers</td>\n",
       "      <td>United States of America, California, Los Angeles</td>\n",
       "    </tr>\n",
       "    <tr>\n",
       "      <th>25128</th>\n",
       "      <td>Rolex Datejust</td>\n",
       "      <td>10P</td>\n",
       "      <td>8651.0</td>\n",
       "      <td>23.0</td>\n",
       "      <td>ロレックス 69179G BIC デイトジャスト 10P ダイヤモンド　トリドール 腕時計 ...</td>\n",
       "      <td>Automatic</td>\n",
       "      <td>White gold</td>\n",
       "      <td>26 x 33 mm</td>\n",
       "      <td>NaN</td>\n",
       "      <td>Very good</td>\n",
       "      <td>No original box, no original papers</td>\n",
       "      <td>Japan, 京都市</td>\n",
       "    </tr>\n",
       "    <tr>\n",
       "      <th>4617</th>\n",
       "      <td>Rolex Oyster Perpetual 36</td>\n",
       "      <td>126000</td>\n",
       "      <td>13861.0</td>\n",
       "      <td>149.0</td>\n",
       "      <td>Candy Pink Dial UNWORN - 2022</td>\n",
       "      <td>Automatic</td>\n",
       "      <td>Steel</td>\n",
       "      <td>36 mm</td>\n",
       "      <td>2022.0</td>\n",
       "      <td>Unworn</td>\n",
       "      <td>Original box, original papers</td>\n",
       "      <td>Sweden, Luleå</td>\n",
       "    </tr>\n",
       "    <tr>\n",
       "      <th>19370</th>\n",
       "      <td>Rolex Datejust 36</td>\n",
       "      <td>16014</td>\n",
       "      <td>5833.0</td>\n",
       "      <td>97.0</td>\n",
       "      <td>16014</td>\n",
       "      <td>Automatic</td>\n",
       "      <td>Steel</td>\n",
       "      <td>36 mm</td>\n",
       "      <td>1977.0</td>\n",
       "      <td>Very good</td>\n",
       "      <td>No original box, no original papers</td>\n",
       "      <td>Italy, Roma</td>\n",
       "    </tr>\n",
       "    <tr>\n",
       "      <th>67073</th>\n",
       "      <td>Rolex Yacht-Master 40</td>\n",
       "      <td>126622</td>\n",
       "      <td>15091.0</td>\n",
       "      <td>57.0</td>\n",
       "      <td>Box and Papers February 2022</td>\n",
       "      <td>Automatic</td>\n",
       "      <td>Steel</td>\n",
       "      <td>40 mm</td>\n",
       "      <td>2022.0</td>\n",
       "      <td>Very good</td>\n",
       "      <td>Original box, original papers</td>\n",
       "      <td>United Kingdom, Southampton</td>\n",
       "    </tr>\n",
       "    <tr>\n",
       "      <th>84095</th>\n",
       "      <td>Rolex Datejust 36</td>\n",
       "      <td>126234</td>\n",
       "      <td>12631.0</td>\n",
       "      <td>0.0</td>\n",
       "      <td>silver dial jubilee export 10700chf</td>\n",
       "      <td>Automatic</td>\n",
       "      <td>Steel</td>\n",
       "      <td>36 mm</td>\n",
       "      <td>2022.0</td>\n",
       "      <td>Unworn</td>\n",
       "      <td>Original box, original papers</td>\n",
       "      <td>Switzerland, Geneve</td>\n",
       "    </tr>\n",
       "    <tr>\n",
       "      <th>72175</th>\n",
       "      <td>Rolex Datejust 41</td>\n",
       "      <td>126334</td>\n",
       "      <td>14355.0</td>\n",
       "      <td>31.0</td>\n",
       "      <td>126334</td>\n",
       "      <td>Automatic</td>\n",
       "      <td>Steel</td>\n",
       "      <td>41 mm</td>\n",
       "      <td>2020.0</td>\n",
       "      <td>Unworn</td>\n",
       "      <td>Original box, original papers</td>\n",
       "      <td>Germany, Koblenz</td>\n",
       "    </tr>\n",
       "    <tr>\n",
       "      <th>87026</th>\n",
       "      <td>Rolex Lady-Datejust</td>\n",
       "      <td>69178</td>\n",
       "      <td>8890.0</td>\n",
       "      <td>99.0</td>\n",
       "      <td>President Model 69178</td>\n",
       "      <td>Automatic</td>\n",
       "      <td>Yellow gold</td>\n",
       "      <td>26 mm</td>\n",
       "      <td>NaN</td>\n",
       "      <td>Very good</td>\n",
       "      <td>Original box, no original papers</td>\n",
       "      <td>United States of America, Texas, Dallas</td>\n",
       "    </tr>\n",
       "    <tr>\n",
       "      <th>55539</th>\n",
       "      <td>Rolex Datejust 36</td>\n",
       "      <td>116200</td>\n",
       "      <td>8048.0</td>\n",
       "      <td>0.0</td>\n",
       "      <td>未使用品 ロレックス　116200　デイトジャスト　自動巻</td>\n",
       "      <td>Automatic</td>\n",
       "      <td>NaN</td>\n",
       "      <td>36 mm</td>\n",
       "      <td>NaN</td>\n",
       "      <td>Unworn</td>\n",
       "      <td>No original box, no original papers</td>\n",
       "      <td>Japan, Nagoya Shi Naka Ku</td>\n",
       "    </tr>\n",
       "    <tr>\n",
       "      <th>44147</th>\n",
       "      <td>Rolex Submariner Date</td>\n",
       "      <td>126610lv</td>\n",
       "      <td>21292.0</td>\n",
       "      <td>149.0</td>\n",
       "      <td>Starbucks / Kermit - 2022</td>\n",
       "      <td>Automatic</td>\n",
       "      <td>Steel</td>\n",
       "      <td>41 mm</td>\n",
       "      <td>2022.0</td>\n",
       "      <td>Very good</td>\n",
       "      <td>Original box, original papers</td>\n",
       "      <td>Sweden, Luleå</td>\n",
       "    </tr>\n",
       "    <tr>\n",
       "      <th>28179</th>\n",
       "      <td>Rolex Datejust 36</td>\n",
       "      <td>126200</td>\n",
       "      <td>14645.0</td>\n",
       "      <td>500.0</td>\n",
       "      <td>36mm Green Palm Dial Smooth Bezel Oyster 12620...</td>\n",
       "      <td>Automatic</td>\n",
       "      <td>Steel</td>\n",
       "      <td>36 mm</td>\n",
       "      <td>2021.0</td>\n",
       "      <td>Unworn</td>\n",
       "      <td>Original box, original papers</td>\n",
       "      <td>United States of America, New York, New York</td>\n",
       "    </tr>\n",
       "    <tr>\n",
       "      <th>83609</th>\n",
       "      <td>Rolex Datejust 36</td>\n",
       "      <td>116200</td>\n",
       "      <td>8047.0</td>\n",
       "      <td>108.0</td>\n",
       "      <td>Floral Dial</td>\n",
       "      <td>Automatic</td>\n",
       "      <td>Steel</td>\n",
       "      <td>36 mm</td>\n",
       "      <td>2012.0</td>\n",
       "      <td>Good</td>\n",
       "      <td>Original box, original papers</td>\n",
       "      <td>The Netherlands, Hilversum</td>\n",
       "    </tr>\n",
       "    <tr>\n",
       "      <th>56854</th>\n",
       "      <td>Rolex Oyster Perpetual 41</td>\n",
       "      <td>124300</td>\n",
       "      <td>28950.0</td>\n",
       "      <td>0.0</td>\n",
       "      <td>124300</td>\n",
       "      <td>Automatic</td>\n",
       "      <td>Steel</td>\n",
       "      <td>41 mm</td>\n",
       "      <td>2021.0</td>\n",
       "      <td>Unworn</td>\n",
       "      <td>Original box, original papers</td>\n",
       "      <td>United States of America, Virginia, Falls Church</td>\n",
       "    </tr>\n",
       "    <tr>\n",
       "      <th>34005</th>\n",
       "      <td>Rolex Sky-Dweller</td>\n",
       "      <td>326934</td>\n",
       "      <td>29812.0</td>\n",
       "      <td>0.0</td>\n",
       "      <td>NEW Sky-Dweller 2022</td>\n",
       "      <td>Automatic</td>\n",
       "      <td>Steel</td>\n",
       "      <td>42 mm</td>\n",
       "      <td>2022.0</td>\n",
       "      <td>Unworn</td>\n",
       "      <td>Original box, original papers</td>\n",
       "      <td>Germany, München</td>\n",
       "    </tr>\n",
       "    <tr>\n",
       "      <th>75313</th>\n",
       "      <td>Rolex Oyster Perpetual 36</td>\n",
       "      <td>116000</td>\n",
       "      <td>7999.0</td>\n",
       "      <td>99.0</td>\n",
       "      <td>116000</td>\n",
       "      <td>Automatic</td>\n",
       "      <td>Steel</td>\n",
       "      <td>36 mm</td>\n",
       "      <td>2017.0</td>\n",
       "      <td>Very good</td>\n",
       "      <td>Original box, original papers</td>\n",
       "      <td>United States of America, Florida, SUNNY ISLES...</td>\n",
       "    </tr>\n",
       "    <tr>\n",
       "      <th>21075</th>\n",
       "      <td>Rolex Daytona</td>\n",
       "      <td>116508</td>\n",
       "      <td>56500.0</td>\n",
       "      <td>99.0</td>\n",
       "      <td>Cosmograph Daytona 18ct Yellow Gold White Dial...</td>\n",
       "      <td>Automatic</td>\n",
       "      <td>Yellow gold</td>\n",
       "      <td>40 mm</td>\n",
       "      <td>2016.0</td>\n",
       "      <td>New</td>\n",
       "      <td>Original box, original papers</td>\n",
       "      <td>United States of America, Florida, Aventura</td>\n",
       "    </tr>\n",
       "    <tr>\n",
       "      <th>16538</th>\n",
       "      <td>Rolex Datejust 41</td>\n",
       "      <td>126331</td>\n",
       "      <td>18915.0</td>\n",
       "      <td>125.0</td>\n",
       "      <td>41MM 126331 18K ROSE GOLD/STAINLESS STEEL MEN'...</td>\n",
       "      <td>Automatic</td>\n",
       "      <td>Gold/Steel</td>\n",
       "      <td>41 mm</td>\n",
       "      <td>NaN</td>\n",
       "      <td>New</td>\n",
       "      <td>Original box, original papers</td>\n",
       "      <td>United States of America, New York, NY</td>\n",
       "    </tr>\n",
       "  </tbody>\n",
       "</table>\n",
       "</div>"
      ],
      "text/plain": [
       "                           model reference number    price  \\\n",
       "34357          Rolex Sky-Dweller           326935  63718.0   \n",
       "69523      Rolex Submariner Date         126610LN  14950.0   \n",
       "79576          Rolex Datejust 36             1603   6000.0   \n",
       "44391        Rolex Lady-Datejust             6917  14350.0   \n",
       "25128             Rolex Datejust              10P   8651.0   \n",
       "4617   Rolex Oyster Perpetual 36           126000  13861.0   \n",
       "19370          Rolex Datejust 36            16014   5833.0   \n",
       "67073      Rolex Yacht-Master 40           126622  15091.0   \n",
       "84095          Rolex Datejust 36           126234  12631.0   \n",
       "72175          Rolex Datejust 41           126334  14355.0   \n",
       "87026        Rolex Lady-Datejust            69178   8890.0   \n",
       "55539          Rolex Datejust 36           116200   8048.0   \n",
       "44147      Rolex Submariner Date         126610lv  21292.0   \n",
       "28179          Rolex Datejust 36           126200  14645.0   \n",
       "83609          Rolex Datejust 36           116200   8047.0   \n",
       "56854  Rolex Oyster Perpetual 41           124300  28950.0   \n",
       "34005          Rolex Sky-Dweller           326934  29812.0   \n",
       "75313  Rolex Oyster Perpetual 36           116000   7999.0   \n",
       "21075              Rolex Daytona           116508  56500.0   \n",
       "16538          Rolex Datejust 41           126331  18915.0   \n",
       "\n",
       "       aditional shipping price  \\\n",
       "34357                       0.0   \n",
       "69523                       0.0   \n",
       "79576                     100.0   \n",
       "44391                     115.0   \n",
       "25128                      23.0   \n",
       "4617                      149.0   \n",
       "19370                      97.0   \n",
       "67073                      57.0   \n",
       "84095                       0.0   \n",
       "72175                      31.0   \n",
       "87026                      99.0   \n",
       "55539                       0.0   \n",
       "44147                     149.0   \n",
       "28179                     500.0   \n",
       "83609                     108.0   \n",
       "56854                       0.0   \n",
       "34005                       0.0   \n",
       "75313                      99.0   \n",
       "21075                      99.0   \n",
       "16538                     125.0   \n",
       "\n",
       "                                                 ad name   movement  \\\n",
       "34357              Ref. 326935 - choco Index Zifferblatt  Automatic   \n",
       "69523                                           126610LN  Automatic   \n",
       "79576  1967 Vintage Rolex Datejust Ref. 1603 RARE Bla...  Automatic   \n",
       "44391  1979 Ladies Datejust 18K YG (Ref. 6917) Tiger ...  Automatic   \n",
       "25128  ロレックス 69179G BIC デイトジャスト 10P ダイヤモンド　トリドール 腕時計 ...  Automatic   \n",
       "4617                       Candy Pink Dial UNWORN - 2022  Automatic   \n",
       "19370                                              16014  Automatic   \n",
       "67073                       Box and Papers February 2022  Automatic   \n",
       "84095                silver dial jubilee export 10700chf  Automatic   \n",
       "72175                                             126334  Automatic   \n",
       "87026                              President Model 69178  Automatic   \n",
       "55539                      未使用品 ロレックス　116200　デイトジャスト　自動巻  Automatic   \n",
       "44147                          Starbucks / Kermit - 2022  Automatic   \n",
       "28179  36mm Green Palm Dial Smooth Bezel Oyster 12620...  Automatic   \n",
       "83609                                        Floral Dial  Automatic   \n",
       "56854                                             124300  Automatic   \n",
       "34005                               NEW Sky-Dweller 2022  Automatic   \n",
       "75313                                             116000  Automatic   \n",
       "21075  Cosmograph Daytona 18ct Yellow Gold White Dial...  Automatic   \n",
       "16538  41MM 126331 18K ROSE GOLD/STAINLESS STEEL MEN'...  Automatic   \n",
       "\n",
       "      case material case diameter  year of production  condition  \\\n",
       "34357     Rose gold         42 mm              2022.0     Unworn   \n",
       "69523         Steel         41 mm              2021.0  Very good   \n",
       "79576         Steel         36 mm              1967.0        NaN   \n",
       "44391   Yellow gold           NaN              1979.0  Very good   \n",
       "25128    White gold    26 x 33 mm                 NaN  Very good   \n",
       "4617          Steel         36 mm              2022.0     Unworn   \n",
       "19370         Steel         36 mm              1977.0  Very good   \n",
       "67073         Steel         40 mm              2022.0  Very good   \n",
       "84095         Steel         36 mm              2022.0     Unworn   \n",
       "72175         Steel         41 mm              2020.0     Unworn   \n",
       "87026   Yellow gold         26 mm                 NaN  Very good   \n",
       "55539           NaN         36 mm                 NaN     Unworn   \n",
       "44147         Steel         41 mm              2022.0  Very good   \n",
       "28179         Steel         36 mm              2021.0     Unworn   \n",
       "83609         Steel         36 mm              2012.0       Good   \n",
       "56854         Steel         41 mm              2021.0     Unworn   \n",
       "34005         Steel         42 mm              2022.0     Unworn   \n",
       "75313         Steel         36 mm              2017.0  Very good   \n",
       "21075   Yellow gold         40 mm              2016.0        New   \n",
       "16538    Gold/Steel         41 mm                 NaN        New   \n",
       "\n",
       "                         scope of delivery  \\\n",
       "34357        Original box, original papers   \n",
       "69523        Original box, original papers   \n",
       "79576  No original box, no original papers   \n",
       "44391        Original box, original papers   \n",
       "25128  No original box, no original papers   \n",
       "4617         Original box, original papers   \n",
       "19370  No original box, no original papers   \n",
       "67073        Original box, original papers   \n",
       "84095        Original box, original papers   \n",
       "72175        Original box, original papers   \n",
       "87026     Original box, no original papers   \n",
       "55539  No original box, no original papers   \n",
       "44147        Original box, original papers   \n",
       "28179        Original box, original papers   \n",
       "83609        Original box, original papers   \n",
       "56854        Original box, original papers   \n",
       "34005        Original box, original papers   \n",
       "75313        Original box, original papers   \n",
       "21075        Original box, original papers   \n",
       "16538        Original box, original papers   \n",
       "\n",
       "                                                location  \n",
       "34357                                  Germany, Duisburg  \n",
       "69523             United States of America, Pennsylvania  \n",
       "79576  United States of America, California, Beverly ...  \n",
       "44391  United States of America, California, Los Angeles  \n",
       "25128                                         Japan, 京都市  \n",
       "4617                                       Sweden, Luleå  \n",
       "19370                                        Italy, Roma  \n",
       "67073                        United Kingdom, Southampton  \n",
       "84095                                Switzerland, Geneve  \n",
       "72175                                   Germany, Koblenz  \n",
       "87026            United States of America, Texas, Dallas  \n",
       "55539                          Japan, Nagoya Shi Naka Ku  \n",
       "44147                                      Sweden, Luleå  \n",
       "28179       United States of America, New York, New York  \n",
       "83609                         The Netherlands, Hilversum  \n",
       "56854   United States of America, Virginia, Falls Church  \n",
       "34005                                   Germany, München  \n",
       "75313  United States of America, Florida, SUNNY ISLES...  \n",
       "21075        United States of America, Florida, Aventura  \n",
       "16538             United States of America, New York, NY  "
      ]
     },
     "execution_count": 14,
     "metadata": {},
     "output_type": "execute_result"
    }
   ],
   "source": [
    "print(df.shape)\n",
    "df.sample(20)"
   ]
  },
  {
   "cell_type": "code",
   "execution_count": 23,
   "metadata": {},
   "outputs": [
    {
     "data": {
      "text/plain": [
       "model                        object\n",
       "reference number             object\n",
       "price                       float64\n",
       "aditional shipping price    float64\n",
       "ad name                      object\n",
       "movement                     object\n",
       "case material                object\n",
       "case diameter                object\n",
       "year of production          float64\n",
       "condition                    object\n",
       "scope of delivery            object\n",
       "location                     object\n",
       "dtype: object"
      ]
     },
     "execution_count": 23,
     "metadata": {},
     "output_type": "execute_result"
    }
   ],
   "source": [
    "df.dtypes"
   ]
  },
  {
   "cell_type": "code",
   "execution_count": 15,
   "metadata": {},
   "outputs": [
    {
     "data": {
      "text/plain": [
       "5392"
      ]
     },
     "execution_count": 15,
     "metadata": {},
     "output_type": "execute_result"
    }
   ],
   "source": [
    "#check nan in price and drop them, since the price will be our target variable\n",
    "df['price'].isna().sum()"
   ]
  },
  {
   "cell_type": "code",
   "execution_count": 18,
   "metadata": {},
   "outputs": [
    {
     "data": {
      "text/plain": [
       "0"
      ]
     },
     "execution_count": 18,
     "metadata": {},
     "output_type": "execute_result"
    }
   ],
   "source": [
    "df = df.dropna(subset=['price'])\n",
    "df['price'].isna().sum()"
   ]
  },
  {
   "cell_type": "code",
   "execution_count": 20,
   "metadata": {},
   "outputs": [
    {
     "data": {
      "text/plain": [
       "3840"
      ]
     },
     "execution_count": 20,
     "metadata": {},
     "output_type": "execute_result"
    }
   ],
   "source": [
    "#check NAs in case diamter\n",
    "df['case diameter'].isna().sum()"
   ]
  },
  {
   "cell_type": "code",
   "execution_count": 22,
   "metadata": {},
   "outputs": [
    {
     "name": "stdout",
     "output_type": "stream",
     "text": [
      "                                  model reference number     price  \\\n",
      "37651  Rolex Oyster Perpetual Lady Date            79240    3027.0   \n",
      "45130                     Rolex Daytona           116505   45835.0   \n",
      "69067             Rolex Yacht-Master 40           126621   20599.0   \n",
      "30729                    Rolex Day-Date              NaN   19500.0   \n",
      "64202                 Rolex Day-Date 36            18238   17407.0   \n",
      "42193                     Rolex Daytona           116528   61285.0   \n",
      "58844         Rolex Oyster Perpetual 31            67480    3531.0   \n",
      "2087                     Rolex Explorer           114270    6172.0   \n",
      "33847             Rolex Yacht-Master 40           126622   15890.0   \n",
      "5746                Rolex GMT-Master II       126720VTNR   34490.0   \n",
      "22532       Rolex Oyster Perpetual Date            15223    6437.0   \n",
      "68143                      Rolex Oyster             4444    4105.0   \n",
      "71119            Rolex Oyster Perpetual            76198    6967.0   \n",
      "75302                     Rolex Daytona            16528  162022.0   \n",
      "9929              Rolex Yacht-Master 40            16628   29767.0   \n",
      "31448               Rolex Lady-Datejust           179160    5098.0   \n",
      "45856               Rolex Lady-Datejust            69178    7500.0   \n",
      "73979                 Rolex Day-Date 36           118238   37080.0   \n",
      "21427               Rolex Lady-Datejust            79174    6643.0   \n",
      "56266        Rolex Submariner (No Date)             5513   20804.0   \n",
      "\n",
      "       aditional shipping price  \\\n",
      "37651                       0.0   \n",
      "45130                     175.0   \n",
      "69067                       0.0   \n",
      "30729                      99.0   \n",
      "64202                     175.0   \n",
      "42193                     175.0   \n",
      "58844                       0.0   \n",
      "2087                       25.0   \n",
      "33847                       0.0   \n",
      "5746                       25.0   \n",
      "22532                     175.0   \n",
      "68143                      31.0   \n",
      "71119                      65.0   \n",
      "75302                     108.0   \n",
      "9929                      175.0   \n",
      "31448                     175.0   \n",
      "45856                      99.0   \n",
      "73979                     175.0   \n",
      "21427                     175.0   \n",
      "56266                       0.0   \n",
      "\n",
      "                                                 ad name        movement  \\\n",
      "37651                                           79240 K番       Automatic   \n",
      "45130   Everose Cosmograph Daytona Black Subdials 116505       Automatic   \n",
      "69067                                             126621       Automatic   \n",
      "30729                                     Ref. 1803 Blue             NaN   \n",
      "64202  Men's Rolex President - Day-Date Watch with Bl...       Automatic   \n",
      "42193  Cosmograph Daytona Men's Watch 116528 Black #3...       Automatic   \n",
      "58844                                              67480       Automatic   \n",
      "2087   114270 Black Dial Automatic Stainless Steel Us...       Automatic   \n",
      "33847                                             126622       Automatic   \n",
      "5746         126720VTNR Black Dial Oystersteel Used Mens       Automatic   \n",
      "22532                       Men's Watch 15223 White dial       Automatic   \n",
      "68143                                          Precision  Manual winding   \n",
      "71119  Yellow Gold Champagne Dial Fluted Bezel Lady 7...       Automatic   \n",
      "75302  Zenith 16528 NOS with Rare Prototype Dial Orig...             NaN   \n",
      "9929            Master Men's 18k Yellow Gold Watch 16628       Automatic   \n",
      "31448                Ladies Stainless Steel Watch 179160       Automatic   \n",
      "45856                                   Oyster Perpetual       Automatic   \n",
      "73979  President Day-Date Men's 18k Yellow Gold Watch...       Automatic   \n",
      "21427        Ladies Datejust Stainless Steel Watch 79174       Automatic   \n",
      "56266                         5513 Submariner Maxi MK II       Automatic   \n",
      "\n",
      "      case material case diameter  year of production  condition  \\\n",
      "37651           NaN           NaN                 NaN       Good   \n",
      "45130     Rose gold           NaN                 NaN  Very good   \n",
      "69067           NaN           NaN                 NaN        NaN   \n",
      "30729           NaN           NaN              1966.0  Very good   \n",
      "64202   Yellow gold           NaN                 NaN  Very good   \n",
      "42193   Yellow gold           NaN                 NaN  Very good   \n",
      "58844           NaN           NaN                 NaN       Good   \n",
      "2087          Steel           NaN              2005.0  Very good   \n",
      "33847           NaN           NaN                 NaN       Good   \n",
      "5746          Steel           NaN              2010.0        NaN   \n",
      "22532         Steel           NaN                 NaN  Very good   \n",
      "68143         Steel           NaN              1940.0       Good   \n",
      "71119   Yellow gold           NaN                 NaN  Very good   \n",
      "75302   Yellow gold           NaN              1992.0     Unworn   \n",
      "9929    Yellow gold           NaN                 NaN  Very good   \n",
      "31448         Steel           NaN                 NaN  Very good   \n",
      "45856   Yellow gold           NaN                 NaN  Very good   \n",
      "73979   Yellow gold           NaN                 NaN  Very good   \n",
      "21427         Steel           NaN                 NaN  Very good   \n",
      "56266         Steel           NaN              1979.0       Good   \n",
      "\n",
      "                         scope of delivery  \\\n",
      "37651  No original box, no original papers   \n",
      "45130     Original box, no original papers   \n",
      "69067     Original papers, no original box   \n",
      "30729  No original box, no original papers   \n",
      "64202     Original box, no original papers   \n",
      "42193     Original box, no original papers   \n",
      "58844  No original box, no original papers   \n",
      "2087      Original papers, no original box   \n",
      "33847     Original papers, no original box   \n",
      "5746      Original papers, no original box   \n",
      "22532     Original box, no original papers   \n",
      "68143  No original box, no original papers   \n",
      "71119  No original box, no original papers   \n",
      "75302     Original papers, no original box   \n",
      "9929      Original box, no original papers   \n",
      "31448  No original box, no original papers   \n",
      "45856  No original box, no original papers   \n",
      "73979     Original box, no original papers   \n",
      "21427  No original box, no original papers   \n",
      "56266  No original box, no original papers   \n",
      "\n",
      "                                                location  \n",
      "37651                                   Japan, Toshimaku  \n",
      "45130            United States of America, Texas, Dallas  \n",
      "69067                                   Japan, Toshimaku  \n",
      "30729  United States of America, California, Los Angeles  \n",
      "64202            United States of America, Texas, Dallas  \n",
      "42193            United States of America, Texas, Dallas  \n",
      "58844                                   Japan, Toshimaku  \n",
      "2087                   Japan, Kanazawa-shi, Ishikawa-ken  \n",
      "33847                                   Japan, Toshimaku  \n",
      "5746                   Japan, Kanazawa-shi, Ishikawa-ken  \n",
      "22532            United States of America, Texas, Dallas  \n",
      "68143                                    Germany, Berlin  \n",
      "71119                                      Austria, Wien  \n",
      "75302                                        Italy, Roma  \n",
      "9929             United States of America, Texas, Dallas  \n",
      "31448            United States of America, Texas, Dallas  \n",
      "45856  United States of America, California, Beverly ...  \n",
      "73979            United States of America, Texas, Dallas  \n",
      "21427            United States of America, Texas, Dallas  \n",
      "56266                                 Hong Kong, Central  \n"
     ]
    }
   ],
   "source": [
    "print(df[df['case diameter'].isna()].sample(20))"
   ]
  },
  {
   "cell_type": "code",
   "execution_count": 24,
   "metadata": {},
   "outputs": [],
   "source": [
    "df['case diameter'] = df['case diameter'].str[:2]"
   ]
  },
  {
   "cell_type": "code",
   "execution_count": 27,
   "metadata": {},
   "outputs": [
    {
     "name": "stdout",
     "output_type": "stream",
     "text": [
      "case diameter\n",
      "40    27517\n",
      "36    15447\n",
      "41    10585\n",
      "26     5052\n",
      "31     4238\n",
      "34     4036\n",
      "42     3587\n",
      "44     1521\n",
      "39     1091\n",
      "28      940\n",
      "43      639\n",
      "37      535\n",
      "29      461\n",
      "35      458\n",
      "25      304\n",
      "32      272\n",
      "24      233\n",
      "30      217\n",
      "38      170\n",
      "33      168\n",
      "15       46\n",
      "23       42\n",
      "48       35\n",
      "16       35\n",
      "27       34\n",
      "22       31\n",
      "21       29\n",
      "47       26\n",
      "20       20\n",
      "18       19\n",
      "46       18\n",
      "45       13\n",
      "19        9\n",
      "14        8\n",
      "51        7\n",
      "49        6\n",
      "13        6\n",
      "50        5\n",
      "10        5\n",
      "17        4\n",
      "es        3\n",
      "12        3\n",
      "54        2\n",
      "11        2\n",
      "4.        1\n",
      "ca        1\n",
      "1.        1\n",
      "52        1\n",
      "8         1\n",
      "4         1\n",
      "Name: count, dtype: int64\n"
     ]
    }
   ],
   "source": [
    "print(df['case diameter'].value_counts())"
   ]
  },
  {
   "cell_type": "code",
   "execution_count": 28,
   "metadata": {},
   "outputs": [],
   "source": [
    "df['case diameter'] = pd.to_numeric(df['case diameter'], errors='coerce', downcast='integer')"
   ]
  },
  {
   "cell_type": "code",
   "execution_count": 30,
   "metadata": {},
   "outputs": [
    {
     "data": {
      "text/plain": [
       "3844"
      ]
     },
     "execution_count": 30,
     "metadata": {},
     "output_type": "execute_result"
    }
   ],
   "source": [
    "df['case diameter'].isna().sum()"
   ]
  },
  {
   "cell_type": "code",
   "execution_count": 31,
   "metadata": {},
   "outputs": [
    {
     "data": {
      "text/plain": [
       "dtype('float64')"
      ]
     },
     "execution_count": 31,
     "metadata": {},
     "output_type": "execute_result"
    }
   ],
   "source": [
    "df['case diameter'].dtype"
   ]
  },
  {
   "cell_type": "code",
   "execution_count": 32,
   "metadata": {},
   "outputs": [],
   "source": [
    "# fill NAs in case diamter with the most frequent case diameter in that model\n",
    "df['case diameter'] = df.groupby('model')['case diameter'].transform(lambda x: x.fillna(x.mode().iloc[0]))"
   ]
  },
  {
   "cell_type": "code",
   "execution_count": 34,
   "metadata": {},
   "outputs": [
    {
     "data": {
      "text/plain": [
       "0"
      ]
     },
     "execution_count": 34,
     "metadata": {},
     "output_type": "execute_result"
    }
   ],
   "source": [
    "df['case diameter'].isna().sum()"
   ]
  },
  {
   "cell_type": "code",
   "execution_count": 37,
   "metadata": {},
   "outputs": [
    {
     "data": {
      "text/plain": [
       "model\n",
       "Rolex Datejust 36                   10139\n",
       "Rolex Daytona                        9143\n",
       "Rolex Submariner Date                6556\n",
       "Rolex Datejust 41                    6096\n",
       "Rolex GMT-Master II                  5351\n",
       "Rolex Lady-Datejust                  5113\n",
       "Rolex Datejust 31                    3141\n",
       "Rolex Day-Date 36                    2749\n",
       "Rolex Sky-Dweller                    2467\n",
       "Rolex Day-Date 40                    2064\n",
       "Rolex Explorer II                    2041\n",
       "Rolex Yacht-Master 40                1853\n",
       "Rolex Submariner (No Date)           1735\n",
       "Rolex Oyster Perpetual Date          1712\n",
       "Rolex Air King                       1658\n",
       "Rolex                                1553\n",
       "Rolex Explorer                       1487\n",
       "Rolex Datejust                       1095\n",
       "Rolex Milgauss                       1065\n",
       "Rolex Oyster Perpetual 41             994\n",
       "Rolex Oyster Perpetual 36             949\n",
       "Rolex GMT-Master                      947\n",
       "Rolex Sea-Dweller Deepsea             936\n",
       "Rolex Datejust II                     816\n",
       "Rolex Oyster Perpetual 31             811\n",
       "Rolex Sea-Dweller                     808\n",
       "Rolex Oyster Perpetual 34             745\n",
       "Rolex Oyster Perpetual Lady Date      726\n",
       "Rolex Oyster Perpetual                658\n",
       "Rolex Yacht-Master II                 619\n",
       "Rolex Sea-Dweller 4000                587\n",
       "Rolex Cellini                         503\n",
       "Rolex Datejust Turn-O-Graph           497\n",
       "Rolex Oyster Precision                472\n",
       "Rolex Yacht-Master                    392\n",
       "Rolex Day-Date II                     340\n",
       "Rolex Oyster Perpetual 39             313\n",
       "Rolex Oyster Perpetual 26             308\n",
       "Rolex Yacht-Master 37                 293\n",
       "Rolex Lady-Datejust Pearlmaster       290\n",
       "Rolex Datejust Oysterquartz           244\n",
       "Rolex Yacht-Master 42                 220\n",
       "Rolex Precision                       193\n",
       "Rolex Oyster                          165\n",
       "Rolex Submariner                      156\n",
       "Rolex Day-Date                        134\n",
       "Rolex Day-Date Oysterquartz            84\n",
       "Rolex Oyster Perpetual 28              70\n",
       "Rolex Pearlmaster                      62\n",
       "Rolex Chronograph                      61\n",
       "Rolex Cellini Time                     55\n",
       "Rolex Prince                           51\n",
       "Rolex Cellini Dual Time                42\n",
       "Rolex Cellini Danaos                   41\n",
       "Rolex Cellini Prince                   38\n",
       "Rolex Cellini Moonphase                34\n",
       "Rolex Cellini Date                     33\n",
       "Rolex Air King Date                    20\n",
       "Name: count, dtype: int64"
      ]
     },
     "execution_count": 37,
     "metadata": {},
     "output_type": "execute_result"
    }
   ],
   "source": [
    "df['model'].value_counts()"
   ]
  },
  {
   "cell_type": "code",
   "execution_count": 38,
   "metadata": {},
   "outputs": [],
   "source": [
    "#remove unnecessary information from the model name -- case diameter\n",
    "df['model'] = df['model'].str.replace(r' \\d{2}$', '', regex=True)"
   ]
  },
  {
   "cell_type": "code",
   "execution_count": 39,
   "metadata": {},
   "outputs": [
    {
     "data": {
      "text/plain": [
       "model\n",
       "Rolex Datejust                      20471\n",
       "Rolex Daytona                        9143\n",
       "Rolex Submariner Date                6556\n",
       "Rolex GMT-Master II                  5351\n",
       "Rolex Lady-Datejust                  5113\n",
       "Rolex Day-Date                       4947\n",
       "Rolex Oyster Perpetual               4848\n",
       "Rolex Yacht-Master                   2758\n",
       "Rolex Sky-Dweller                    2467\n",
       "Rolex Explorer II                    2041\n",
       "Rolex Submariner (No Date)           1735\n",
       "Rolex Oyster Perpetual Date          1712\n",
       "Rolex Air King                       1658\n",
       "Rolex                                1553\n",
       "Rolex Explorer                       1487\n",
       "Rolex Milgauss                       1065\n",
       "Rolex GMT-Master                      947\n",
       "Rolex Sea-Dweller Deepsea             936\n",
       "Rolex Datejust II                     816\n",
       "Rolex Sea-Dweller                     808\n",
       "Rolex Oyster Perpetual Lady Date      726\n",
       "Rolex Yacht-Master II                 619\n",
       "Rolex Sea-Dweller 4000                587\n",
       "Rolex Cellini                         503\n",
       "Rolex Datejust Turn-O-Graph           497\n",
       "Rolex Oyster Precision                472\n",
       "Rolex Day-Date II                     340\n",
       "Rolex Lady-Datejust Pearlmaster       290\n",
       "Rolex Datejust Oysterquartz           244\n",
       "Rolex Precision                       193\n",
       "Rolex Oyster                          165\n",
       "Rolex Submariner                      156\n",
       "Rolex Day-Date Oysterquartz            84\n",
       "Rolex Pearlmaster                      62\n",
       "Rolex Chronograph                      61\n",
       "Rolex Cellini Time                     55\n",
       "Rolex Prince                           51\n",
       "Rolex Cellini Dual Time                42\n",
       "Rolex Cellini Danaos                   41\n",
       "Rolex Cellini Prince                   38\n",
       "Rolex Cellini Moonphase                34\n",
       "Rolex Cellini Date                     33\n",
       "Rolex Air King Date                    20\n",
       "Name: count, dtype: int64"
      ]
     },
     "execution_count": 39,
     "metadata": {},
     "output_type": "execute_result"
    }
   ],
   "source": [
    "df['model'].value_counts()"
   ]
  },
  {
   "cell_type": "code",
   "execution_count": 42,
   "metadata": {},
   "outputs": [
    {
     "data": {
      "text/plain": [
       "movement\n",
       "Automatic         76544\n",
       "Manual winding     2171\n",
       "Quartz              476\n",
       "Name: count, dtype: int64"
      ]
     },
     "execution_count": 42,
     "metadata": {},
     "output_type": "execute_result"
    }
   ],
   "source": [
    "df.movement.value_counts()"
   ]
  },
  {
   "cell_type": "code",
   "execution_count": 61,
   "metadata": {},
   "outputs": [
    {
     "data": {
      "text/plain": [
       "2534"
      ]
     },
     "execution_count": 61,
     "metadata": {},
     "output_type": "execute_result"
    }
   ],
   "source": [
    "df.movement.isna().sum()"
   ]
  },
  {
   "cell_type": "code",
   "execution_count": 69,
   "metadata": {},
   "outputs": [],
   "source": [
    "# fill missing movement with the most common type in that model\n",
    "df['movement'] = df['movement'].fillna(df.groupby('model')['movement'].transform(lambda x: x.mode()[0]))"
   ]
  },
  {
   "cell_type": "code",
   "execution_count": 70,
   "metadata": {},
   "outputs": [
    {
     "data": {
      "text/plain": [
       "0"
      ]
     },
     "execution_count": 70,
     "metadata": {},
     "output_type": "execute_result"
    }
   ],
   "source": [
    "df.movement.isna().sum()"
   ]
  },
  {
   "cell_type": "code",
   "execution_count": 44,
   "metadata": {},
   "outputs": [
    {
     "data": {
      "text/plain": [
       "case material\n",
       "Steel          45411\n",
       "Gold/Steel     13394\n",
       "Yellow gold     9013\n",
       "White gold      4486\n",
       "Rose gold       3671\n",
       "Platinum         801\n",
       "Red gold         284\n",
       "Silver           108\n",
       "Ceramic           55\n",
       "Titanium           7\n",
       "Bronze             4\n",
       "Aluminum           1\n",
       "Name: count, dtype: int64"
      ]
     },
     "execution_count": 44,
     "metadata": {},
     "output_type": "execute_result"
    }
   ],
   "source": [
    "df['case material'].value_counts()"
   ]
  },
  {
   "cell_type": "code",
   "execution_count": 55,
   "metadata": {},
   "outputs": [
    {
     "data": {
      "text/plain": [
       "4490"
      ]
     },
     "execution_count": 55,
     "metadata": {},
     "output_type": "execute_result"
    }
   ],
   "source": [
    "df['case material'].isna().sum()"
   ]
  },
  {
   "cell_type": "code",
   "execution_count": 71,
   "metadata": {},
   "outputs": [],
   "source": [
    "#fill missing case material with the most common type in that model\n",
    "df['case material'] = df['case material'].fillna(df.groupby('model')['case material'].transform(lambda x: x.mode()[0]))"
   ]
  },
  {
   "cell_type": "code",
   "execution_count": 72,
   "metadata": {},
   "outputs": [
    {
     "data": {
      "text/plain": [
       "0"
      ]
     },
     "execution_count": 72,
     "metadata": {},
     "output_type": "execute_result"
    }
   ],
   "source": [
    "df['case material'].isna().sum()"
   ]
  },
  {
   "cell_type": "code",
   "execution_count": 45,
   "metadata": {},
   "outputs": [
    {
     "data": {
      "text/plain": [
       "year of production\n",
       "2022.0    14543\n",
       "2021.0     6215\n",
       "2020.0     2973\n",
       "2019.0     2071\n",
       "2018.0     1633\n",
       "          ...  \n",
       "1500.0        1\n",
       "1927.0        1\n",
       "1900.0        1\n",
       "1871.0        1\n",
       "1884.0        1\n",
       "Name: count, Length: 110, dtype: int64"
      ]
     },
     "execution_count": 45,
     "metadata": {},
     "output_type": "execute_result"
    }
   ],
   "source": [
    "df['year of production'].value_counts()"
   ]
  },
  {
   "cell_type": "code",
   "execution_count": 46,
   "metadata": {},
   "outputs": [
    {
     "data": {
      "text/plain": [
       "22154"
      ]
     },
     "execution_count": 46,
     "metadata": {},
     "output_type": "execute_result"
    }
   ],
   "source": [
    "df['year of production'].isna().sum()"
   ]
  },
  {
   "cell_type": "code",
   "execution_count": 75,
   "metadata": {},
   "outputs": [
    {
     "name": "stderr",
     "output_type": "stream",
     "text": [
      "/Users/deanchen/Library/Python/3.9/lib/python/site-packages/numpy/lib/nanfunctions.py:1215: RuntimeWarning: Mean of empty slice\n",
      "  return np.nanmean(a, axis, out=out, keepdims=keepdims)\n",
      "/Users/deanchen/Library/Python/3.9/lib/python/site-packages/numpy/lib/nanfunctions.py:1215: RuntimeWarning: Mean of empty slice\n",
      "  return np.nanmean(a, axis, out=out, keepdims=keepdims)\n",
      "/Users/deanchen/Library/Python/3.9/lib/python/site-packages/numpy/lib/nanfunctions.py:1215: RuntimeWarning: Mean of empty slice\n",
      "  return np.nanmean(a, axis, out=out, keepdims=keepdims)\n",
      "/Users/deanchen/Library/Python/3.9/lib/python/site-packages/numpy/lib/nanfunctions.py:1215: RuntimeWarning: Mean of empty slice\n",
      "  return np.nanmean(a, axis, out=out, keepdims=keepdims)\n",
      "/Users/deanchen/Library/Python/3.9/lib/python/site-packages/numpy/lib/nanfunctions.py:1215: RuntimeWarning: Mean of empty slice\n",
      "  return np.nanmean(a, axis, out=out, keepdims=keepdims)\n",
      "/Users/deanchen/Library/Python/3.9/lib/python/site-packages/numpy/lib/nanfunctions.py:1215: RuntimeWarning: Mean of empty slice\n",
      "  return np.nanmean(a, axis, out=out, keepdims=keepdims)\n",
      "/Users/deanchen/Library/Python/3.9/lib/python/site-packages/numpy/lib/nanfunctions.py:1215: RuntimeWarning: Mean of empty slice\n",
      "  return np.nanmean(a, axis, out=out, keepdims=keepdims)\n",
      "/Users/deanchen/Library/Python/3.9/lib/python/site-packages/numpy/lib/nanfunctions.py:1215: RuntimeWarning: Mean of empty slice\n",
      "  return np.nanmean(a, axis, out=out, keepdims=keepdims)\n",
      "/Users/deanchen/Library/Python/3.9/lib/python/site-packages/numpy/lib/nanfunctions.py:1215: RuntimeWarning: Mean of empty slice\n",
      "  return np.nanmean(a, axis, out=out, keepdims=keepdims)\n"
     ]
    }
   ],
   "source": [
    "#fill the missing year of production with the median value of watches in the same model and condition\n",
    "df['year of production'] = df['year of production'].fillna(df.groupby(['model','condition'])['year of production'].transform(lambda x: x.median()))"
   ]
  },
  {
   "cell_type": "code",
   "execution_count": 76,
   "metadata": {},
   "outputs": [
    {
     "data": {
      "text/plain": [
       "14"
      ]
     },
     "execution_count": 76,
     "metadata": {},
     "output_type": "execute_result"
    }
   ],
   "source": [
    "df['year of production'].isna().sum()"
   ]
  },
  {
   "cell_type": "code",
   "execution_count": 77,
   "metadata": {},
   "outputs": [
    {
     "name": "stdout",
     "output_type": "stream",
     "text": [
      "                                  model reference number    price  \\\n",
      "355                  Rolex Cellini Date            50519  17500.0   \n",
      "12816            Rolex Oyster Precision             6694   2278.0   \n",
      "19898               Rolex Lady-Datejust            69174   2943.0   \n",
      "31827   Rolex Lady-Datejust Pearlmaster            80315  17559.0   \n",
      "32866              Rolex Cellini Danaos             4233   4187.0   \n",
      "35910                Rolex Cellini Date            50515  10736.0   \n",
      "42497              Rolex Cellini Danaos             4233   4187.0   \n",
      "56162                    Rolex Explorer             1016  18867.0   \n",
      "63450   Rolex Lady-Datejust Pearlmaster            80315  17559.0   \n",
      "65339  Rolex Oyster Perpetual Lady Date             6917   1437.0   \n",
      "66065                Rolex Cellini Date            50515  19944.0   \n",
      "66494                Rolex Cellini Date            50515  19944.0   \n",
      "73897                    Rolex Explorer             1016  18867.0   \n",
      "80607               Rolex Lady-Datejust            69174   2943.0   \n",
      "\n",
      "       aditional shipping price  \\\n",
      "355                         0.0   \n",
      "12816                      76.0   \n",
      "19898                      53.0   \n",
      "31827                       0.0   \n",
      "32866                       0.0   \n",
      "35910                       0.0   \n",
      "42497                       0.0   \n",
      "56162                      41.0   \n",
      "63450                       0.0   \n",
      "65339                      76.0   \n",
      "66065                      53.0   \n",
      "66494                      53.0   \n",
      "73897                      41.0   \n",
      "80607                      53.0   \n",
      "\n",
      "                                                 ad name        movement  \\\n",
      "355                                                50519       Automatic   \n",
      "12816          6694 Oyster Date Just cal. 1225 57 serial  Manual winding   \n",
      "19898                                            デイトジャスト       Automatic   \n",
      "31827  Auth ROLEX Datejust Pearlmaster 80315 7S6450R8...       Automatic   \n",
      "32866  ロレックス チェリーニ ダナオス K18WG cal.1602 4233 手巻き メンズ_7...  Manual winding   \n",
      "35910                                      Rose Gold 18k       Automatic   \n",
      "42497  ロレックス チェリーニ ダナオス K18WG cal.1602 4233 手巻き メンズ_7...  Manual winding   \n",
      "56162                                               1016       Automatic   \n",
      "63450  Auth ROLEX Datejust Pearlmaster 80315 7S6450R8...       Automatic   \n",
      "65339                6917 Oyster Perpetual Date cal.2030       Automatic   \n",
      "66065                                              50515       Automatic   \n",
      "66494                                              50515       Automatic   \n",
      "73897                                               1016       Automatic   \n",
      "80607                                            デイトジャスト       Automatic   \n",
      "\n",
      "      case material  case diameter  year of production   condition  \\\n",
      "355      White gold           39.0                 NaN      Unworn   \n",
      "12816         Steel           34.0                 NaN        Poor   \n",
      "19898         Steel           25.0                 NaN  Incomplete   \n",
      "31827   Yellow gold           29.0                 NaN        Fair   \n",
      "32866    White gold           33.0                 NaN        Fair   \n",
      "35910     Rose gold           39.0                 NaN        Fair   \n",
      "42497    White gold           33.0                 NaN        Fair   \n",
      "56162         Steel           36.0                 NaN        Poor   \n",
      "63450   Yellow gold           29.0                 NaN        Fair   \n",
      "65339    Gold/Steel           26.0                 NaN        Poor   \n",
      "66065     Rose gold           39.0                 NaN         New   \n",
      "66494     Rose gold           39.0                 NaN         New   \n",
      "73897         Steel           36.0                 NaN        Poor   \n",
      "80607         Steel           25.0                 NaN  Incomplete   \n",
      "\n",
      "                         scope of delivery                    location  \\\n",
      "355          Original box, original papers        Singapore, Singapore   \n",
      "12816  No original box, no original papers                Japan, Osaka   \n",
      "19898  No original box, no original papers  Japan, Tarumi-ku Kobe-shi,   \n",
      "31827  No original box, no original papers                Japan, Tokyo   \n",
      "32866  No original box, no original papers          Japan, Nagoya City   \n",
      "35910  No original box, no original papers          Romania, Bucuresti   \n",
      "42497  No original box, no original papers          Japan, Nagoya City   \n",
      "56162  No original box, no original papers          Australia, Toowong   \n",
      "63450  No original box, no original papers                Japan, Tokyo   \n",
      "65339  No original box, no original papers                Japan, Osaka   \n",
      "66065        Original box, original papers            Germany, Bamberg   \n",
      "66494        Original box, original papers            Germany, Bamberg   \n",
      "73897  No original box, no original papers          Australia, Toowong   \n",
      "80607  No original box, no original papers  Japan, Tarumi-ku Kobe-shi,   \n",
      "\n",
      "         country  \n",
      "355    Singapore  \n",
      "12816      Japan  \n",
      "19898      Japan  \n",
      "31827      Japan  \n",
      "32866      Japan  \n",
      "35910    Romania  \n",
      "42497      Japan  \n",
      "56162  Australia  \n",
      "63450      Japan  \n",
      "65339      Japan  \n",
      "66065    Germany  \n",
      "66494    Germany  \n",
      "73897  Australia  \n",
      "80607      Japan  \n"
     ]
    }
   ],
   "source": [
    "print(df[df['year of production'].isna()])"
   ]
  },
  {
   "cell_type": "code",
   "execution_count": 78,
   "metadata": {},
   "outputs": [],
   "source": [
    "# the remaining missing year of production, fill them with the mode of the same reference number\n",
    "df['year of production'] = df['year of production'].fillna(df.groupby(['reference number'])['year of production'].transform(lambda x: x.mode()[0]))"
   ]
  },
  {
   "cell_type": "code",
   "execution_count": 79,
   "metadata": {},
   "outputs": [
    {
     "data": {
      "text/plain": [
       "0"
      ]
     },
     "execution_count": 79,
     "metadata": {},
     "output_type": "execute_result"
    }
   ],
   "source": [
    "df['year of production'].isna().sum()"
   ]
  },
  {
   "cell_type": "code",
   "execution_count": 47,
   "metadata": {},
   "outputs": [
    {
     "data": {
      "text/plain": [
       "condition\n",
       "Very good     43451\n",
       "Unworn        13985\n",
       "New           11761\n",
       "Good           9948\n",
       "Fair           1426\n",
       "Poor             40\n",
       "Incomplete        2\n",
       "Name: count, dtype: int64"
      ]
     },
     "execution_count": 47,
     "metadata": {},
     "output_type": "execute_result"
    }
   ],
   "source": [
    "df['condition'].value_counts()"
   ]
  },
  {
   "cell_type": "code",
   "execution_count": 51,
   "metadata": {},
   "outputs": [
    {
     "data": {
      "text/plain": [
       "1112"
      ]
     },
     "execution_count": 51,
     "metadata": {},
     "output_type": "execute_result"
    }
   ],
   "source": [
    "df['condition'].isna().sum()"
   ]
  },
  {
   "cell_type": "code",
   "execution_count": 73,
   "metadata": {},
   "outputs": [],
   "source": [
    "#fill the NAs in condition with the most common type of the same model\n",
    "\n",
    "df['condition'] = df['condition'].fillna(df.groupby('model')['condition'].transform(lambda x: x.mode()[0]))"
   ]
  },
  {
   "cell_type": "code",
   "execution_count": 74,
   "metadata": {},
   "outputs": [
    {
     "data": {
      "text/plain": [
       "0"
      ]
     },
     "execution_count": 74,
     "metadata": {},
     "output_type": "execute_result"
    }
   ],
   "source": [
    "df['condition'].isna().sum()"
   ]
  },
  {
   "cell_type": "code",
   "execution_count": 52,
   "metadata": {},
   "outputs": [
    {
     "data": {
      "text/plain": [
       "location\n",
       "United States of America, New York, New York          5986\n",
       "Japan, Tokyo                                          3900\n",
       "United Kingdom, London                                3120\n",
       "United States of America, Florida, Miami              2548\n",
       "United States of America, Texas, Dallas               2222\n",
       "                                                      ... \n",
       "The Netherlands, Wateringen                              1\n",
       "Saudi Arabia, Saudi Arabia                               1\n",
       "France, AJACCIO                                          1\n",
       "United States of America, Massachusetts, Wakefield       1\n",
       "United Kingdom, Littlewick Green                         1\n",
       "Name: count, Length: 4079, dtype: int64"
      ]
     },
     "execution_count": 52,
     "metadata": {},
     "output_type": "execute_result"
    }
   ],
   "source": [
    "df['location'].value_counts()"
   ]
  },
  {
   "cell_type": "code",
   "execution_count": 54,
   "metadata": {},
   "outputs": [
    {
     "data": {
      "text/plain": [
       "0"
      ]
     },
     "execution_count": 54,
     "metadata": {},
     "output_type": "execute_result"
    }
   ],
   "source": [
    "df['location'].isna().sum()"
   ]
  },
  {
   "cell_type": "code",
   "execution_count": 53,
   "metadata": {},
   "outputs": [
    {
     "data": {
      "text/plain": [
       "country\n",
       "United States of America    28715\n",
       "Japan                       11155\n",
       "Italy                        8199\n",
       "Germany                      7641\n",
       "United Kingdom               6707\n",
       "                            ...  \n",
       "Panama                          1\n",
       "Iceland                         1\n",
       "Kazakhstan                      1\n",
       "Iraq                            1\n",
       "Cambodia                        1\n",
       "Name: count, Length: 87, dtype: int64"
      ]
     },
     "execution_count": 53,
     "metadata": {},
     "output_type": "execute_result"
    }
   ],
   "source": [
    "# save only the country part of the location data\n",
    "df['country'] = df['location'].str.split(',').str[0]\n",
    "df['country'].value_counts()"
   ]
  },
  {
   "cell_type": "code",
   "execution_count": 80,
   "metadata": {},
   "outputs": [
    {
     "data": {
      "text/plain": [
       "0"
      ]
     },
     "execution_count": 80,
     "metadata": {},
     "output_type": "execute_result"
    }
   ],
   "source": [
    "df['scope of delivery'].isna().sum()"
   ]
  },
  {
   "cell_type": "code",
   "execution_count": 82,
   "metadata": {},
   "outputs": [
    {
     "data": {
      "text/plain": [
       "scope of delivery\n",
       "Original box, original papers          51442\n",
       "No original box, no original papers    16182\n",
       "Original box, no original papers        9493\n",
       "Original papers, no original box        4608\n",
       "Name: count, dtype: int64"
      ]
     },
     "execution_count": 82,
     "metadata": {},
     "output_type": "execute_result"
    }
   ],
   "source": [
    "df['scope of delivery'].value_counts()"
   ]
  },
  {
   "cell_type": "code",
   "execution_count": 84,
   "metadata": {},
   "outputs": [],
   "source": [
    "#save all the useful information in a new dataframe\n",
    "new_df = df[['model','price','movement','case material','case diameter','year of production','condition','scope of delivery','country']]"
   ]
  },
  {
   "cell_type": "code",
   "execution_count": 86,
   "metadata": {},
   "outputs": [
    {
     "name": "stdout",
     "output_type": "stream",
     "text": [
      "                        model    price   movement case material  \\\n",
      "36444          Rolex Datejust   6949.0  Automatic         Steel   \n",
      "514             Rolex Daytona  58295.0  Automatic   Yellow gold   \n",
      "55642  Rolex Oyster Perpetual   8641.0  Automatic         Steel   \n",
      "76149     Rolex Lady-Datejust  17272.0  Automatic    Gold/Steel   \n",
      "84655          Rolex Datejust   5644.0  Automatic    Gold/Steel   \n",
      "51211           Rolex Daytona  61352.0  Automatic     Rose gold   \n",
      "77403          Rolex Air King  12600.0  Automatic         Steel   \n",
      "69895       Rolex Explorer II   8980.0  Automatic         Steel   \n",
      "2262            Rolex Daytona  21725.0  Automatic         Steel   \n",
      "43681           Rolex Daytona  46578.0  Automatic         Steel   \n",
      "\n",
      "       case diameter  year of production  condition  \\\n",
      "36444           31.0              2020.0  Very good   \n",
      "514             40.0              2021.0     Unworn   \n",
      "55642           39.0              2015.0  Very good   \n",
      "76149           28.0              2022.0     Unworn   \n",
      "84655           36.0              1970.0       Good   \n",
      "51211           40.0              2022.0     Unworn   \n",
      "77403           40.0              2022.0     Unworn   \n",
      "69895           40.0              2000.0  Very good   \n",
      "2262            40.0              2016.0  Very good   \n",
      "43681           40.0              2004.5       Good   \n",
      "\n",
      "                         scope of delivery                   country  \n",
      "36444     Original papers, no original box                    Taiwan  \n",
      "514          Original box, original papers  United States of America  \n",
      "55642        Original box, original papers                   Germany  \n",
      "76149        Original box, original papers                   Belgium  \n",
      "84655  No original box, no original papers                 Australia  \n",
      "51211        Original box, original papers                    France  \n",
      "77403        Original box, original papers  United States of America  \n",
      "69895     Original box, no original papers  United States of America  \n",
      "2262         Original box, original papers                     Japan  \n",
      "43681  No original box, no original papers                     Japan  \n"
     ]
    }
   ],
   "source": [
    "print(new_df.sample(10))"
   ]
  },
  {
   "cell_type": "code",
   "execution_count": 87,
   "metadata": {},
   "outputs": [
    {
     "data": {
      "text/plain": [
       "False"
      ]
     },
     "execution_count": 87,
     "metadata": {},
     "output_type": "execute_result"
    }
   ],
   "source": [
    "#last check any NAs\n",
    "new_df.isna().any().any()"
   ]
  },
  {
   "cell_type": "code",
   "execution_count": 89,
   "metadata": {},
   "outputs": [
    {
     "data": {
      "text/plain": [
       "model                  object\n",
       "price                 float64\n",
       "movement               object\n",
       "case material          object\n",
       "case diameter         float64\n",
       "year of production    float64\n",
       "condition              object\n",
       "scope of delivery      object\n",
       "country                object\n",
       "dtype: object"
      ]
     },
     "execution_count": 89,
     "metadata": {},
     "output_type": "execute_result"
    }
   ],
   "source": [
    "new_df.dtypes"
   ]
  }
 ],
 "metadata": {
  "kernelspec": {
   "display_name": "Python 3",
   "language": "python",
   "name": "python3"
  },
  "language_info": {
   "codemirror_mode": {
    "name": "ipython",
    "version": 3
   },
   "file_extension": ".py",
   "mimetype": "text/x-python",
   "name": "python",
   "nbconvert_exporter": "python",
   "pygments_lexer": "ipython3",
   "version": "3.9.6"
  },
  "orig_nbformat": 4
 },
 "nbformat": 4,
 "nbformat_minor": 2
}
